{
 "cells": [
  {
   "cell_type": "markdown",
   "metadata": {},
   "source": [
    "# Operators"
   ]
  },
  {
   "cell_type": "markdown",
   "metadata": {},
   "source": [
    "## Comparison Operators \n",
    "   "
   ]
  },
  {
   "cell_type": "markdown",
   "metadata": {},
   "source": [
    "<div class=\"table-contents\"><table summary=\"Comparison Operators\" style=\"border-collapse: collapse;border-top: 0.5pt solid ; border-bottom: 0.5pt solid ; border-left: 0.5pt solid ; border-right: 0.5pt solid ; \"><colgroup><col><col></colgroup><thead><tr><th style=\"border-right: 0.5pt solid ; border-bottom: 0.5pt solid ; \" valign=\"top\"><p>Operator</p></th><th style=\"border-bottom: 0.5pt solid ; \" valign=\"top\"><p>Meaning</p></th></tr></thead><tbody><tr><td style=\"border-right: 0.5pt solid ; border-bottom: 0.5pt solid ; \" valign=\"top\"><p><code class=\"literal\">==</code></p></td><td style=\"border-bottom: 0.5pt solid ; \" valign=\"top\"><p>Equal to</p></td></tr><tr><td style=\"border-right: 0.5pt solid ; border-bottom: 0.5pt solid ; \" valign=\"top\"><p><code class=\"literal\">!=</code></p></td><td style=\"border-bottom: 0.5pt solid ; \" valign=\"top\"><p>Not equal to</p></td></tr><tr><td style=\"border-right: 0.5pt solid ; border-bottom: 0.5pt solid ; \" valign=\"top\"><p><code class=\"literal\">&lt;</code></p></td><td style=\"border-bottom: 0.5pt solid ; \" valign=\"top\"><p>Less than</p></td></tr><tr><td style=\"border-right: 0.5pt solid ; border-bottom: 0.5pt solid ; \" valign=\"top\"><p><code class=\"literal\">&gt;</code></p></td><td style=\"border-bottom: 0.5pt solid ; \" valign=\"top\"><p>Greater than</p></td></tr><tr><td style=\"border-right: 0.5pt solid ; border-bottom: 0.5pt solid ; \" valign=\"top\"><p><code class=\"literal\">&lt;=</code></p></td><td style=\"border-bottom: 0.5pt solid ; \" valign=\"top\"><p>Less than or equal to</p></td></tr><tr><td style=\"border-right: 0.5pt solid ; \" valign=\"top\"><p><code class=\"literal\">&gt;=</code></p></td><td style=\"\" valign=\"top\"><p>Greater than or equal to</p></td></tr></tbody></table></div></div>"
   ]
  },
  {
   "cell_type": "markdown",
   "metadata": {},
   "source": [
    "## Integers"
   ]
  },
  {
   "cell_type": "code",
   "execution_count": null,
   "metadata": {},
   "outputs": [],
   "source": [
    "x=0\n",
    "\n",
    "bool(x) is True"
   ]
  },
  {
   "cell_type": "code",
   "execution_count": null,
   "metadata": {},
   "outputs": [],
   "source": [
    "x = 5\n",
    "y = 6"
   ]
  },
  {
   "cell_type": "code",
   "execution_count": null,
   "metadata": {},
   "outputs": [],
   "source": [
    "x == y"
   ]
  },
  {
   "cell_type": "markdown",
   "metadata": {},
   "source": [
    "## And ,Or operator"
   ]
  },
  {
   "cell_type": "code",
   "execution_count": null,
   "metadata": {},
   "outputs": [],
   "source": [
    "x,y =6,5"
   ]
  },
  {
   "cell_type": "code",
   "execution_count": null,
   "metadata": {},
   "outputs": [],
   "source": [
    "x >0 and y>0"
   ]
  },
  {
   "cell_type": "code",
   "execution_count": null,
   "metadata": {},
   "outputs": [],
   "source": [
    "x > 0 and x > y"
   ]
  },
  {
   "cell_type": "markdown",
   "metadata": {},
   "source": [
    "## Strings"
   ]
  },
  {
   "cell_type": "code",
   "execution_count": null,
   "metadata": {},
   "outputs": [],
   "source": [
    "x_str = 'hello'\n",
    "y_str = 'Hello'\n",
    "\n",
    "x_str > y_str"
   ]
  },
  {
   "cell_type": "markdown",
   "metadata": {},
   "source": [
    "### String functions returning boolean value"
   ]
  },
  {
   "cell_type": "raw",
   "metadata": {},
   "source": [
    "'isalnum', 'isalpha', 'isascii', 'isdecimal', 'isdigit', 'isidentifier', 'islower', 'isnumeric', 'isprintable', 'isspace', 'istitle', 'isupper'"
   ]
  },
  {
   "cell_type": "markdown",
   "metadata": {},
   "source": [
    "# Lists & Tuples"
   ]
  },
  {
   "cell_type": "code",
   "execution_count": null,
   "metadata": {},
   "outputs": [],
   "source": [
    "## Lists\n",
    "lst_x = [1,2,3,10,5]\n",
    "lst_y = [12.3,3.4,5.7,7.3]\n",
    "\n",
    "print(lst_x[3] < lst_y[3])\n",
    "print(len(lst_x) >= len(lst_y))"
   ]
  },
  {
   "cell_type": "code",
   "execution_count": null,
   "metadata": {},
   "outputs": [],
   "source": [
    "## tuples\n",
    "tup_a = (1,2,3,4,5)\n",
    "tup_a[0] > 0"
   ]
  },
  {
   "cell_type": "markdown",
   "metadata": {},
   "source": [
    "# Dictionary"
   ]
  },
  {
   "cell_type": "code",
   "execution_count": null,
   "metadata": {},
   "outputs": [],
   "source": [
    "dict_num = {1:'one',2:'two',3:'three',4:'four'}"
   ]
  },
  {
   "cell_type": "code",
   "execution_count": null,
   "metadata": {},
   "outputs": [],
   "source": [
    "dict_num[4] == 'four'"
   ]
  },
  {
   "cell_type": "markdown",
   "metadata": {},
   "source": [
    "# 'in' Operator For Collection Object Data Types"
   ]
  },
  {
   "cell_type": "code",
   "execution_count": null,
   "metadata": {},
   "outputs": [],
   "source": [
    "## Strings\n",
    "x_str = 'even'\n",
    "\n",
    "print('e' in x_str)\n",
    "print('an' in 'banana')"
   ]
  },
  {
   "cell_type": "code",
   "execution_count": null,
   "metadata": {},
   "outputs": [],
   "source": [
    "## Lists\n",
    "lst_numbers = [1,2,3,4,5]\n",
    "print(5 in lst_numbers)\n",
    "\n",
    "lst_str = ['banana','apple','Raspberry','grapes']\n",
    "print('grapes' in lst_str)"
   ]
  },
  {
   "cell_type": "code",
   "execution_count": null,
   "metadata": {},
   "outputs": [],
   "source": [
    "## Dictionary\n",
    "dict_repr = {1:'one',2:'two',3:'three',4:'four'}\n",
    "\n",
    "\n",
    "print(1 in dict_repr.keys())\n",
    "print('four' in dict_repr.values())\n",
    "print((1,'one') in dict_repr.items())"
   ]
  }
 ],
 "metadata": {
  "kernelspec": {
   "display_name": "Python 3",
   "language": "python",
   "name": "python3"
  },
  "language_info": {
   "codemirror_mode": {
    "name": "ipython",
    "version": 3
   },
   "file_extension": ".py",
   "mimetype": "text/x-python",
   "name": "python",
   "nbconvert_exporter": "python",
   "pygments_lexer": "ipython3",
   "version": "3.7.7"
  },
  "toc": {
   "base_numbering": 1,
   "nav_menu": {},
   "number_sections": true,
   "sideBar": true,
   "skip_h1_title": false,
   "title_cell": "Table of Contents",
   "title_sidebar": "Contents",
   "toc_cell": false,
   "toc_position": {},
   "toc_section_display": true,
   "toc_window_display": true
  }
 },
 "nbformat": 4,
 "nbformat_minor": 2
}
