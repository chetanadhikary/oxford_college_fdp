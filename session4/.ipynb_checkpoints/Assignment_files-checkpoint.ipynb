{
 "cells": [
  {
   "cell_type": "markdown",
   "metadata": {},
   "source": [
    "## A file named mailbox.txt contains a mailbox with information on the received/sent or any information regarding the mails in a text format(.txt). \n",
    "## Use python to read the file and to get some information from the file"
   ]
  },
  {
   "cell_type": "markdown",
   "metadata": {},
   "source": [
    "## 1.  Write a program to get the following details of the mails which were received from the file : 'mailbox.txt'"
   ]
  },
  {
   "cell_type": "markdown",
   "metadata": {},
   "source": [
    "* Count the number of line in the mailbox\n",
    "* List the mail ids of all the received mails\n",
    "* Count the number of mails recieved in the mailbox\n",
    "* List all the domain names of the received mails\n",
    "* Count the number of mails received from each mail id\n",
    "* Sort the mail received in decending order of received mails from an email-id"
   ]
  },
  {
   "cell_type": "code",
   "execution_count": 20,
   "metadata": {},
   "outputs": [],
   "source": [
    "# Count the number of lines in the mailbox\n",
    "def countLines(file_name):\n",
    "    '''\n",
    "        This function counts the number of lines present in the text document.\n",
    "        The input argument is the file name.\n",
    "    \n",
    "        >>> countLines('mbox_5.txt')\n",
    "        277\n",
    "        \n",
    "    '''\n",
    "    lst_lines = [line for line in open(file_name)]\n",
    "    count_lines = len(lst_lines)\n",
    "    return count_lines\n",
    "        "
   ]
  },
  {
   "cell_type": "code",
   "execution_count": 21,
   "metadata": {},
   "outputs": [
    {
     "data": {
      "text/plain": [
       "277"
      ]
     },
     "execution_count": 21,
     "metadata": {},
     "output_type": "execute_result"
    }
   ],
   "source": [
    "countLines('mbox_5.txt')"
   ]
  },
  {
   "cell_type": "code",
   "execution_count": 22,
   "metadata": {},
   "outputs": [],
   "source": [
    "# Count the number of mails recieved in the mailbox\n",
    "def countMail(file_name):\n",
    "    '''\n",
    "        This function counts the number of mails recieved in the mailbox.\n",
    "        There could be multiple mails from same ID.\n",
    "    \n",
    "        >>>countMail('mbox_5.txt')\n",
    "        4\n",
    "    '''\n",
    "    \n",
    "    lst_emailFrom = [line for line in open(file_name) if line.startswith('From ')]\n",
    "    count_emails = len(lst_emailFrom)\n",
    "    return count_emails"
   ]
  },
  {
   "cell_type": "code",
   "execution_count": 23,
   "metadata": {},
   "outputs": [
    {
     "data": {
      "text/plain": [
       "4"
      ]
     },
     "execution_count": 23,
     "metadata": {},
     "output_type": "execute_result"
    }
   ],
   "source": [
    "countMail('mbox_5.txt')"
   ]
  },
  {
   "cell_type": "code",
   "execution_count": 31,
   "metadata": {},
   "outputs": [],
   "source": [
    "# List the mail ids of all the received mails\n",
    "def mailIDList(file_name):\n",
    "    '''\n",
    "        \n",
    "        >>> mailIDList('mbox_5.txt')\n",
    "        {'chad.miller', 'ramiro', 'thrasibule.jimmy', 'uday.lad'}\n",
    "        \n",
    "    '''\n",
    "    lst_emailFrom = [line.split(' ')[1].split('@')[0] for line in open(file_name) if line.startswith('From ')]\n",
    "    return set(lst_emailFrom)"
   ]
  },
  {
   "cell_type": "code",
   "execution_count": 32,
   "metadata": {},
   "outputs": [
    {
     "data": {
      "text/plain": [
       "{'chad.miller', 'ramiro', 'thrasibule.jimmy', 'uday.lad'}"
      ]
     },
     "execution_count": 32,
     "metadata": {},
     "output_type": "execute_result"
    }
   ],
   "source": [
    "mailIDList('mbox_5.txt')"
   ]
  },
  {
   "cell_type": "code",
   "execution_count": 34,
   "metadata": {},
   "outputs": [
    {
     "data": {
      "text/plain": [
       "{'antranig',\n",
       " 'cwen',\n",
       " 'david.horwitz',\n",
       " 'gopal.ramasammycook',\n",
       " 'gsilver',\n",
       " 'louis',\n",
       " 'ray',\n",
       " 'rjlowe',\n",
       " 'stephen.marquard',\n",
       " 'wagnermr',\n",
       " 'zqian'}"
      ]
     },
     "execution_count": 34,
     "metadata": {},
     "output_type": "execute_result"
    }
   ],
   "source": [
    "mailIDList('mailbox.txt')"
   ]
  },
  {
   "cell_type": "code",
   "execution_count": 38,
   "metadata": {},
   "outputs": [],
   "source": [
    "# Count the number of mails received from each mail id\n",
    "def countMailFromID(file_name):\n",
    "    '''\n",
    "        >>>countMailFromID('mbox_5.txt')\n",
    "        {'chad.miller': 1, 'ramiro': 1, 'uday.lad': 1, 'thrasibule.jimmy': 1}\n",
    "    '''\n",
    "    lst_emailFrom = [line.split(' ')[1].split('@')[0] for line in open(file_name) if line.startswith('From ')]\n",
    "    dict_count_ID = dict()\n",
    "    for mail_id in lst_emailFrom:\n",
    "        dict_count_ID[mail_id] = dict_count_ID.get(mail_id,0) + 1\n",
    "    return dict_count_ID"
   ]
  },
  {
   "cell_type": "code",
   "execution_count": 40,
   "metadata": {},
   "outputs": [
    {
     "data": {
      "text/plain": [
       "{'chad.miller': 1, 'ramiro': 1, 'uday.lad': 1, 'thrasibule.jimmy': 1}"
      ]
     },
     "execution_count": 40,
     "metadata": {},
     "output_type": "execute_result"
    }
   ],
   "source": [
    "countMailFromID('mbox_5.txt')"
   ]
  },
  {
   "cell_type": "code",
   "execution_count": 41,
   "metadata": {},
   "outputs": [
    {
     "data": {
      "text/plain": [
       "{'stephen.marquard': 2,\n",
       " 'louis': 3,\n",
       " 'zqian': 4,\n",
       " 'rjlowe': 2,\n",
       " 'cwen': 5,\n",
       " 'gsilver': 3,\n",
       " 'wagnermr': 1,\n",
       " 'antranig': 1,\n",
       " 'gopal.ramasammycook': 1,\n",
       " 'david.horwitz': 4,\n",
       " 'ray': 1}"
      ]
     },
     "execution_count": 41,
     "metadata": {},
     "output_type": "execute_result"
    }
   ],
   "source": [
    "countMailFromID('mailbox.txt')"
   ]
  },
  {
   "cell_type": "code",
   "execution_count": 44,
   "metadata": {},
   "outputs": [
    {
     "data": {
      "text/plain": [
       "{'stephen.marquard': 2,\n",
       " 'louis': 3,\n",
       " 'zqian': 4,\n",
       " 'rjlowe': 2,\n",
       " 'cwen': 5,\n",
       " 'gsilver': 3,\n",
       " 'wagnermr': 1,\n",
       " 'antranig': 1,\n",
       " 'gopal.ramasammycook': 1,\n",
       " 'david.horwitz': 4,\n",
       " 'ray': 1}"
      ]
     },
     "execution_count": 44,
     "metadata": {},
     "output_type": "execute_result"
    }
   ],
   "source": [
    "countMailFromID('mailbox.txt')"
   ]
  }
 ],
 "metadata": {
  "kernelspec": {
   "display_name": "Python 3",
   "language": "python",
   "name": "python3"
  },
  "language_info": {
   "codemirror_mode": {
    "name": "ipython",
    "version": 3
   },
   "file_extension": ".py",
   "mimetype": "text/x-python",
   "name": "python",
   "nbconvert_exporter": "python",
   "pygments_lexer": "ipython3",
   "version": "3.7.7"
  }
 },
 "nbformat": 4,
 "nbformat_minor": 2
}
