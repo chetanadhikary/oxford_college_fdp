{
 "cells": [
  {
   "cell_type": "markdown",
   "metadata": {},
   "source": [
    "# Input Function"
   ]
  },
  {
   "cell_type": "code",
   "execution_count": null,
   "metadata": {},
   "outputs": [],
   "source": [
    "variable_name = input('<User Prompt>')"
   ]
  },
  {
   "cell_type": "markdown",
   "metadata": {},
   "source": [
    "# Output/Print Function"
   ]
  },
  {
   "cell_type": "code",
   "execution_count": null,
   "metadata": {},
   "outputs": [],
   "source": [
    "print('Output String')\n",
    "print('Output String',variable_name1,variablename2)\n",
    "print('Output String {0},{1}'.format(variable_name1,variable_name2))\n",
    "print(f'Output String {variable_name1},{variable_name2}')"
   ]
  },
  {
   "cell_type": "markdown",
   "metadata": {},
   "source": [
    "# Creating Python Objects"
   ]
  },
  {
   "cell_type": "markdown",
   "metadata": {},
   "source": [
    "## Integer"
   ]
  },
  {
   "cell_type": "code",
   "execution_count": null,
   "metadata": {},
   "outputs": [],
   "source": [
    "x = 5\n",
    "z,y = 7,8"
   ]
  },
  {
   "cell_type": "markdown",
   "metadata": {},
   "source": [
    "## String"
   ]
  },
  {
   "cell_type": "code",
   "execution_count": null,
   "metadata": {},
   "outputs": [],
   "source": [
    "x_str = 'Hello Python'\n",
    "y_str = \"Hello Python\"\n",
    "m_line = '''This is used for writing\n",
    "            multi line statement in python or used as doc strings'''"
   ]
  },
  {
   "cell_type": "markdown",
   "metadata": {},
   "source": [
    "## List"
   ]
  },
  {
   "cell_type": "code",
   "execution_count": null,
   "metadata": {},
   "outputs": [],
   "source": [
    "lst_num = [1,2,3,4,5]\n",
    "lst_items = list(['apple','banana','orange','grapes'])"
   ]
  },
  {
   "cell_type": "markdown",
   "metadata": {},
   "source": [
    "## Tuple"
   ]
  },
  {
   "cell_type": "code",
   "execution_count": null,
   "metadata": {},
   "outputs": [],
   "source": [
    "tup_names = ('India','Bangladesh','Srilanka','Myanmar')"
   ]
  },
  {
   "cell_type": "markdown",
   "metadata": {},
   "source": [
    "## Dictionary"
   ]
  },
  {
   "cell_type": "code",
   "execution_count": null,
   "metadata": {},
   "outputs": [],
   "source": [
    "dict_items = dict()\n",
    "dict_items = {1:'one',2:'two',3:'three',4:'four'}"
   ]
  },
  {
   "cell_type": "markdown",
   "metadata": {},
   "source": [
    "## Set"
   ]
  },
  {
   "cell_type": "code",
   "execution_count": null,
   "metadata": {},
   "outputs": [],
   "source": [
    "set_num = set()\n",
    "set_num = {1,2,3,4,5}"
   ]
  },
  {
   "cell_type": "markdown",
   "metadata": {},
   "source": [
    "# General Functions of Python Objects"
   ]
  },
  {
   "cell_type": "markdown",
   "metadata": {},
   "source": [
    "## Integer"
   ]
  },
  {
   "cell_type": "code",
   "execution_count": 1,
   "metadata": {},
   "outputs": [
    {
     "name": "stdout",
     "output_type": "stream",
     "text": [
      "['to_bytes', 'real', 'numerator', 'imag', 'from_bytes', 'denominator', 'conjugate', 'bit_length']\n"
     ]
    }
   ],
   "source": [
    "lst_int = dir(int)[:-9:-1]\n",
    "print(lst_int)"
   ]
  },
  {
   "cell_type": "markdown",
   "metadata": {},
   "source": [
    "## String"
   ]
  },
  {
   "cell_type": "code",
   "execution_count": 2,
   "metadata": {},
   "outputs": [
    {
     "name": "stdout",
     "output_type": "stream",
     "text": [
      "['zfill', 'upper', 'translate', 'title', 'swapcase', 'strip', 'startswith', 'splitlines', 'split', 'rstrip', 'rsplit', 'rpartition', 'rjust', 'rindex', 'rfind', 'replace', 'partition', 'maketrans', 'lstrip', 'lower', 'ljust', 'join', 'isupper', 'istitle', 'isspace', 'isprintable', 'isnumeric', 'islower', 'isidentifier', 'isdigit', 'isdecimal', 'isascii', 'isalpha', 'isalnum', 'index', 'format_map', 'format', 'find', 'expandtabs', 'endswith', 'encode', 'count', 'center', 'casefold', 'capitalize']\n"
     ]
    }
   ],
   "source": [
    "lst_string = dir(str)[:-46:-1]\n",
    "print(lst_string)"
   ]
  },
  {
   "cell_type": "markdown",
   "metadata": {},
   "source": [
    "## List"
   ]
  },
  {
   "cell_type": "code",
   "execution_count": 3,
   "metadata": {},
   "outputs": [
    {
     "name": "stdout",
     "output_type": "stream",
     "text": [
      "['sort', 'reverse', 'remove', 'pop', 'insert', 'index', 'extend', 'count', 'copy', 'clear', 'append']\n"
     ]
    }
   ],
   "source": [
    "lst_functions = dir(list)[:-12:-1]\n",
    "print(lst_functions)"
   ]
  },
  {
   "cell_type": "markdown",
   "metadata": {},
   "source": [
    "## Tuple"
   ]
  },
  {
   "cell_type": "code",
   "execution_count": 4,
   "metadata": {},
   "outputs": [
    {
     "name": "stdout",
     "output_type": "stream",
     "text": [
      "['index', 'count']\n"
     ]
    }
   ],
   "source": [
    "lst_tuple = dir(tuple)[:-3:-1]\n",
    "print(lst_tuple)"
   ]
  },
  {
   "cell_type": "markdown",
   "metadata": {},
   "source": [
    "## Dictionary"
   ]
  },
  {
   "cell_type": "code",
   "execution_count": 5,
   "metadata": {},
   "outputs": [
    {
     "name": "stdout",
     "output_type": "stream",
     "text": [
      "['values', 'update', 'setdefault', 'popitem', 'pop', 'keys', 'items', 'get', 'fromkeys', 'copy', 'clear']\n"
     ]
    }
   ],
   "source": [
    "lst_dict = dir(dict)[:-12:-1]\n",
    "print(lst_dict)"
   ]
  },
  {
   "cell_type": "markdown",
   "metadata": {},
   "source": [
    "## Set"
   ]
  },
  {
   "cell_type": "code",
   "execution_count": 6,
   "metadata": {},
   "outputs": [
    {
     "name": "stdout",
     "output_type": "stream",
     "text": [
      "['update', 'union', 'symmetric_difference_update', 'symmetric_difference', 'remove', 'pop', 'issuperset', 'issubset', 'isdisjoint', 'intersection_update', 'intersection', 'discard', 'difference_update', 'difference', 'copy', 'clear', 'add']\n"
     ]
    }
   ],
   "source": [
    "lst_set = dir(set)[:-18:-1]\n",
    "print(lst_set)"
   ]
  },
  {
   "cell_type": "markdown",
   "metadata": {},
   "source": [
    "# Conditional Statements"
   ]
  },
  {
   "cell_type": "code",
   "execution_count": null,
   "metadata": {},
   "outputs": [],
   "source": [
    "if <condition>:\n",
    "    ...\n",
    "    ...\n",
    "else:\n",
    "    ...\n",
    "    ..."
   ]
  },
  {
   "cell_type": "markdown",
   "metadata": {},
   "source": [
    "## Nested Conditional Statements"
   ]
  },
  {
   "cell_type": "code",
   "execution_count": null,
   "metadata": {},
   "outputs": [],
   "source": [
    "if <condition1>:\n",
    "    ...\n",
    "    ...\n",
    "    if <condition2>:# Nested If condition\n",
    "        ...\n",
    "        ...\n",
    "    else : # else for inner if\n",
    "        ...\n",
    "        ...\n",
    "else: # else part for the outer if\n",
    "    ..."
   ]
  },
  {
   "cell_type": "markdown",
   "metadata": {},
   "source": [
    "## Multiple 'if' conditional statements "
   ]
  },
  {
   "cell_type": "code",
   "execution_count": null,
   "metadata": {},
   "outputs": [],
   "source": [
    "if <condition1>:\n",
    "    ...\n",
    "    ...\n",
    "elif <condition2>:\n",
    "    ...\n",
    "    ...\n",
    "else:\n",
    "    ...\n",
    "    ..."
   ]
  },
  {
   "cell_type": "markdown",
   "metadata": {},
   "source": [
    "# Looping"
   ]
  },
  {
   "cell_type": "markdown",
   "metadata": {},
   "source": [
    "## For loop"
   ]
  },
  {
   "cell_type": "code",
   "execution_count": null,
   "metadata": {},
   "outputs": [],
   "source": [
    "for condition:\n",
    "    ...\n",
    "    ...\n",
    "    if condition2:\n",
    "        ...\n",
    "        break # To come out of the loop\n",
    "    else:\n",
    "        ...\n",
    "        continue # skip the current iteration and jump to next iteration\n",
    "else: \n",
    "    # Else part is optional and executes only once when\n",
    "    # the condition in for loop is False\n",
    "    ...\n",
    "    ..."
   ]
  },
  {
   "cell_type": "markdown",
   "metadata": {},
   "source": [
    "## While loop"
   ]
  },
  {
   "cell_type": "code",
   "execution_count": null,
   "metadata": {},
   "outputs": [],
   "source": [
    "<intialize variable in the condition statement>\n",
    "while condition:\n",
    "    ...\n",
    "    ...\n",
    "    <update variable in the condition statement>\n",
    "    if condition2:\n",
    "        ...\n",
    "        break # To come out of the loop\n",
    "    else:\n",
    "        ...\n",
    "        continue # skip the current iteration and jump to next iteration\n",
    "else: \n",
    "    # Else part is optional and executes only once when\n",
    "    # the condition in while loop is False\n",
    "    ...\n",
    "    ..."
   ]
  },
  {
   "cell_type": "markdown",
   "metadata": {},
   "source": [
    "# Function"
   ]
  },
  {
   "cell_type": "code",
   "execution_count": null,
   "metadata": {},
   "outputs": [],
   "source": [
    "def <function_name>(<parameter list>):\n",
    "    ...\n",
    "    ...\n",
    "    return variables"
   ]
  },
  {
   "cell_type": "markdown",
   "metadata": {},
   "source": [
    "## Function with arbitrary argument"
   ]
  },
  {
   "cell_type": "code",
   "execution_count": null,
   "metadata": {},
   "outputs": [],
   "source": [
    "def <function_name>(*<positional args>,**<keyword args>):\n",
    "    # * specifies arbitrary positional arguments\n",
    "    # ** specifies arbitrary keyword arguments\n",
    "    ...\n",
    "    ...\n",
    "    return variables"
   ]
  },
  {
   "cell_type": "markdown",
   "metadata": {},
   "source": [
    "## Reading and Writing Files"
   ]
  },
  {
   "cell_type": "code",
   "execution_count": null,
   "metadata": {},
   "outputs": [],
   "source": [
    "with open('filename') as f:\n",
    "    readdata = f.read()\n",
    "    ...\n",
    "    ..."
   ]
  }
 ],
 "metadata": {
  "kernelspec": {
   "display_name": "Python 3",
   "language": "python",
   "name": "python3"
  },
  "language_info": {
   "codemirror_mode": {
    "name": "ipython",
    "version": 3
   },
   "file_extension": ".py",
   "mimetype": "text/x-python",
   "name": "python",
   "nbconvert_exporter": "python",
   "pygments_lexer": "ipython3",
   "version": "3.7.7"
  }
 },
 "nbformat": 4,
 "nbformat_minor": 4
}
