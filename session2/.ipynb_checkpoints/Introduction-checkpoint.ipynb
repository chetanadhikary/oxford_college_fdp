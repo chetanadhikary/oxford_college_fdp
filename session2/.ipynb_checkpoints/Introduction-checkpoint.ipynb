{
 "cells": [
  {
   "cell_type": "markdown",
   "metadata": {},
   "source": [
    "# Python Programming Language"
   ]
  },
  {
   "cell_type": "markdown",
   "metadata": {},
   "source": [
    "<html>\n",
    "    <h4>Python Programming Language is </h4>\n",
    "    <ul>\n",
    "        <li> High Level</li>\n",
    "        <li> Interpreted</li>\n",
    "        <li> Dynamically typed</li>\n",
    "        <li> Object Oriented </li>\n",
    "    </ul>\n",
    "    <h4>Python is an open-source general-purpose, high-level and interpreted programming language with a dynamic type system and\n",
    "    automatic memory management. </h4>\n",
    "    <p>\n",
    "    Python is the sought-after programming language in developing most of today's\n",
    "    upcoming and challenging technologies, such as: machine learning, deep learning, Internet of Things (IoT), and \n",
    "    robotics. But mostly due to its relative ease of use compared to alternatives, such as: C++, Java, and C language.\n",
    "    As a result, the popularity of Python has grown steadily over the past decade, or so, for scientific computing.\n",
    "        The official homepage of Python programming language is www.python.org.</p>\n",
    "    </html>\n"
   ]
  },
  {
   "cell_type": "markdown",
   "metadata": {},
   "source": [
    "# Python Code Execution"
   ]
  },
  {
   "cell_type": "markdown",
   "metadata": {},
   "source": [
    "<html>\n",
    "    <img src = \"code_execution.png\">\n",
    "    <caption> <i> Learning Python , 5th Edition by Mark Lutz</i> </caption>\n",
    "    </html>\n",
    "    "
   ]
  },
  {
   "cell_type": "markdown",
   "metadata": {},
   "source": [
    "# Variables, Objects and References"
   ]
  },
  {
   "cell_type": "code",
   "execution_count": null,
   "metadata": {},
   "outputs": [],
   "source": [
    "x = 5"
   ]
  },
  {
   "cell_type": "code",
   "execution_count": null,
   "metadata": {},
   "outputs": [],
   "source": [
    "x"
   ]
  },
  {
   "cell_type": "code",
   "execution_count": null,
   "metadata": {},
   "outputs": [],
   "source": [
    "x = 'Hello Python'"
   ]
  },
  {
   "cell_type": "code",
   "execution_count": null,
   "metadata": {},
   "outputs": [],
   "source": [
    "x"
   ]
  },
  {
   "cell_type": "code",
   "execution_count": null,
   "metadata": {},
   "outputs": [],
   "source": [
    "a = 3"
   ]
  },
  {
   "cell_type": "markdown",
   "metadata": {},
   "source": [
    "<html>\n",
    "    <img src = \"variable_objects_references.png\" >\n",
    "    <caption> <i> Learning Python , 5th Edition by Mark Lutz</i> </caption>\n",
    "    </html>"
   ]
  },
  {
   "cell_type": "markdown",
   "metadata": {},
   "source": [
    "<html>\n",
    "    <b>Steps involved in the operation of all assignments in Python Language are</b>\n",
    "    <ol>\n",
    "        <li> Create an <b>object</b> to represent the value 3 </li>\n",
    "        <li> Create the variable a , if it does not exist </li>\n",
    "        <li> Link the variable a to the new object 3 </li>\n",
    "    </ol>\n",
    "    </html>\n",
    "    "
   ]
  },
  {
   "cell_type": "code",
   "execution_count": null,
   "metadata": {},
   "outputs": [],
   "source": [
    "help(id)"
   ]
  },
  {
   "cell_type": "code",
   "execution_count": null,
   "metadata": {},
   "outputs": [],
   "source": [
    "y = 5"
   ]
  },
  {
   "cell_type": "code",
   "execution_count": null,
   "metadata": {},
   "outputs": [],
   "source": [
    "id(x),id(y)"
   ]
  },
  {
   "cell_type": "code",
   "execution_count": null,
   "metadata": {},
   "outputs": [],
   "source": [
    "x = 'Hello Python'"
   ]
  },
  {
   "cell_type": "code",
   "execution_count": null,
   "metadata": {},
   "outputs": [],
   "source": [
    "type(x)"
   ]
  },
  {
   "cell_type": "code",
   "execution_count": null,
   "metadata": {},
   "outputs": [],
   "source": [
    "help(id)"
   ]
  },
  {
   "cell_type": "code",
   "execution_count": null,
   "metadata": {},
   "outputs": [],
   "source": [
    "print(dir(str))"
   ]
  }
 ],
 "metadata": {
  "kernelspec": {
   "display_name": "Python 3",
   "language": "python",
   "name": "python3"
  },
  "language_info": {
   "codemirror_mode": {
    "name": "ipython",
    "version": 3
   },
   "file_extension": ".py",
   "mimetype": "text/x-python",
   "name": "python",
   "nbconvert_exporter": "python",
   "pygments_lexer": "ipython3",
   "version": "3.7.7"
  }
 },
 "nbformat": 4,
 "nbformat_minor": 2
}
